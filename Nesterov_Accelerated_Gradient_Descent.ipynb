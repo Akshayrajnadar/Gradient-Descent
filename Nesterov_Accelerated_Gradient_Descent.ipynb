{
  "nbformat": 4,
  "nbformat_minor": 0,
  "metadata": {
    "colab": {
      "provenance": [],
      "authorship_tag": "ABX9TyPzF23XLBDAxihC2eUM4vUb",
      "include_colab_link": true
    },
    "kernelspec": {
      "name": "python3",
      "display_name": "Python 3"
    },
    "language_info": {
      "name": "python"
    },
    "accelerator": "GPU",
    "gpuClass": "standard"
  },
  "cells": [
    {
      "cell_type": "markdown",
      "metadata": {
        "id": "view-in-github",
        "colab_type": "text"
      },
      "source": [
        "<a href=\"https://colab.research.google.com/github/Ak08032000/Gradient-Descent/blob/master/Nesterov_Accelerated_Gradient_Descent.ipynb\" target=\"_parent\"><img src=\"https://colab.research.google.com/assets/colab-badge.svg\" alt=\"Open In Colab\"/></a>"
      ]
    },
    {
      "cell_type": "markdown",
      "source": [
        "#What is Nesterov Accelerated Gradient Descent?\n",
        "Nesterov accelerated gradient descent (NAG) is a variant of the standard gradient descent optimization algorithm used for minimizing an objective function. NAG introduces the concept of momentum to gradient descent by taking into account the direction of the previous update and using it to adjust the current update. The algorithm works by computing an intermediate value of the gradient at a point slightly ahead of the current point in the parameter space, using the momentum to correct for the overshoot that may occur.\n",
        "\n",
        "Momentum gradient descent (MGD) and Nesterov accelerated gradient descent (NAG) are two variants of the standard gradient descent algorithm used for minimizing an objective function. Both algorithms use a momentum term to help the optimization algorithm \"look ahead\" and make better progress towards the optimum.\n",
        "\n",
        "The main difference between MGD and NAG lies in how they compute the momentum term. In MGD, the momentum term is computed as a weighted average of the previous gradient updates, whereas in NAG, the momentum term is computed based on the gradient evaluated at a point slightly ahead of the current point."
      ],
      "metadata": {
        "id": "oN-7F6DR2t0H"
      }
    },
    {
      "cell_type": "code",
      "execution_count": null,
      "metadata": {
        "id": "jtd_T-UOZXuc"
      },
      "outputs": [],
      "source": [
        "import numpy as np\n",
        "\n",
        "X = [0.5, 2.5]\n",
        "Y = [0.2, 0.9]"
      ]
    },
    {
      "cell_type": "code",
      "source": [],
      "metadata": {
        "id": "0-7erjVpazVK"
      },
      "execution_count": null,
      "outputs": []
    },
    {
      "cell_type": "code",
      "source": [
        "def f(w,x,b):\n",
        "  return 1.0/(1.0 + np.exp(-(w*x + b)))"
      ],
      "metadata": {
        "id": "lbi-C-8pZn43"
      },
      "execution_count": null,
      "outputs": []
    },
    {
      "cell_type": "code",
      "source": [
        "def error(w,b):\n",
        "  err = 0.0\n",
        "  for x,y in zip(X,Y):\n",
        "    fx = f(w,x,b)\n",
        "    err += 0.5 * (fx - y)**2\n",
        "  return err"
      ],
      "metadata": {
        "id": "JnGRoqFmZ41e"
      },
      "execution_count": null,
      "outputs": []
    },
    {
      "cell_type": "code",
      "source": [
        "def grad_w(w,b,x,y):\n",
        "  fx = f(w,b,x) \n",
        "  return (fx - y) * fx * (1-fx) * x\n",
        "\n",
        "def grad_b(w,b,x,y):\n",
        "  fx = f(w,b,x)\n",
        "  return (fx - y) * fx * (1-fx)"
      ],
      "metadata": {
        "id": "dB0YB1xDZ7I-"
      },
      "execution_count": null,
      "outputs": []
    },
    {
      "cell_type": "code",
      "source": [
        "def do_nesterov_accelerated_gradient_descent():\n",
        "  w, b, eta, max_epochs = 0, 0, 1.0, 100\n",
        "  prev_v_w, prev_v_b, gamma = 0, 0, 0.9\n",
        "  for i in range(max_epochs):\n",
        "    dw, db = 0, 0\n",
        "    v_w = gamma * prev_v_w\n",
        "    v_b = gamma * prev_v_b\n",
        "    for x,y in zip(X,Y):\n",
        "      dw += grad_w(w - v_w, b - v_b, x, y)\n",
        "      db += grad_b(w - v_w, b - v_b, x, y)\n",
        "\n",
        "    v_w = gamma * prev_v_w + eta* dw\n",
        "    v_b = gamma * prev_v_b + eta* db\n",
        "    w = w - v_w\n",
        "    b = b - v_b\n",
        "    prev_v_w = v_w\n",
        "    prev_v_b = v_b\n",
        "    print(w,b)\n",
        "    print(error)"
      ],
      "metadata": {
        "id": "b13AJHOnZ9iP"
      },
      "execution_count": null,
      "outputs": []
    },
    {
      "cell_type": "code",
      "source": [
        "do_nesterov_accelerated_gradient_descent()"
      ],
      "metadata": {
        "colab": {
          "base_uri": "https://localhost:8080/"
        },
        "id": "lZc0cgF5zoqC",
        "outputId": "a8eab4d5-4758-4f0b-f3c9-022d5510b4d6"
      },
      "execution_count": null,
      "outputs": [
        {
          "output_type": "stream",
          "name": "stdout",
          "text": [
            "-0.0538708338050038 -0.1009719423913125\n",
            "<function error at 0x7f0b7320fe50>\n",
            "-0.1566863475851223 -0.2934760218491476\n",
            "<function error at 0x7f0b7320fe50>\n",
            "-0.30544055347522214 -0.5710717394141629\n",
            "<function error at 0x7f0b7320fe50>\n",
            "-0.497701039661516 -0.9282772814706945\n",
            "<function error at 0x7f0b7320fe50>\n",
            "-0.7249181335279444 -1.3494247772768113\n",
            "<function error at 0x7f0b7320fe50>\n",
            "-0.9661895739531678 -1.796667533090145\n",
            "<function error at 0x7f0b7320fe50>\n",
            "-1.2003240580916912 -2.2309081041421486\n",
            "<function error at 0x7f0b7320fe50>\n",
            "-1.417258667256697 -2.6333591664655804\n",
            "<function error at 0x7f0b7320fe50>\n",
            "-1.6145691399406465 -2.999443691068694\n",
            "<function error at 0x7f0b7320fe50>\n",
            "-1.7928201520478773 -3.3301789402697195\n",
            "<function error at 0x7f0b7320fe50>\n",
            "-1.9534658736535984 -3.628252836961924\n",
            "<function error at 0x7f0b7320fe50>\n",
            "-2.0981210776989276 -3.896658210230362\n",
            "<function error at 0x7f0b7320fe50>\n",
            "-2.2283367843854727 -4.138271844796013\n",
            "<function error at 0x7f0b7320fe50>\n",
            "-2.34554054057382 -4.355742155793937\n",
            "<function error at 0x7f0b7320fe50>\n",
            "-2.451027681971176 -4.551472488062704\n",
            "<function error at 0x7f0b7320fe50>\n",
            "-2.5459676681910848 -4.727632710499627\n",
            "<function error at 0x7f0b7320fe50>\n",
            "-2.631414341608543 -4.886178196754653\n",
            "<function error at 0x7f0b7320fe50>\n",
            "-2.708316667709963 -5.0288697345024955\n",
            "<function error at 0x7f0b7320fe50>\n",
            "-2.777528919367031 -5.157292415071077\n",
            "<function error at 0x7f0b7320fe50>\n",
            "-2.839820028470983 -5.272872982499516\n",
            "<function error at 0x7f0b7320fe50>\n",
            "-2.8958820721465455 -5.376895578473843\n",
            "<function error at 0x7f0b7320fe50>\n",
            "-2.9463379377707195 -5.470515964199321\n",
            "<function error at 0x7f0b7320fe50>\n",
            "-2.991748232786098 -5.554774341268789\n",
            "<function error at 0x7f0b7320fe50>\n",
            "-3.0326175084015508 -5.630606899574049\n",
            "<function error at 0x7f0b7320fe50>\n",
            "-3.069399863115353 -5.698856214537546\n",
            "<function error at 0x7f0b7320fe50>\n",
            "-3.102503986915751 -5.7602806065518966\n",
            "<function error at 0x7f0b7320fe50>\n",
            "-3.132297701564871 -5.815562565419449\n",
            "<function error at 0x7f0b7320fe50>\n",
            "-3.1591120471098324 -5.865316332827176\n",
            "<function error at 0x7f0b7320fe50>\n",
            "-3.183244959877238 -5.910094726826282\n",
            "<function error at 0x7f0b7320fe50>\n",
            "-3.204964582741408 -5.950395284001101\n",
            "<function error at 0x7f0b7320fe50>\n",
            "-3.224512244406893 -5.986665787498175\n",
            "<function error at 0x7f0b7320fe50>\n",
            "-3.2421051407865096 -6.019309242297008\n",
            "<function error at 0x7f0b7320fe50>\n",
            "-3.257938748255706 -6.048688352980259\n",
            "<function error at 0x7f0b7320fe50>\n",
            "-3.2721889955901196 -6.075129553743074\n",
            "<function error at 0x7f0b7320fe50>\n",
            "-3.285014218714764 -6.098926635411609\n",
            "<function error at 0x7f0b7320fe50>\n",
            "-3.2965569199817475 -6.120344009766146\n",
            "<function error at 0x7f0b7320fe50>\n",
            "-3.3069453515224634 -6.139619647436126\n",
            "<function error at 0x7f0b7320fe50>\n",
            "-3.3162949402660615 -6.156967722008473\n",
            "<function error at 0x7f0b7320fe50>\n",
            "-3.3247095704570864 -6.172580989727007\n",
            "<function error at 0x7f0b7320fe50>\n",
            "-3.332282737922051 -6.186632931223206\n",
            "<function error at 0x7f0b7320fe50>\n",
            "-3.3390985889098452 -6.199279679074829\n",
            "<function error at 0x7f0b7320fe50>\n",
            "-3.345232855048449 -6.210661752609325\n",
            "<function error at 0x7f0b7320fe50>\n",
            "-3.3507536948062318 -6.220905619227371\n",
            "<function error at 0x7f0b7320fe50>\n",
            "-3.3557224508072983 -6.230125099594402\n",
            "<function error at 0x7f0b7320fe50>\n",
            "-3.360194331415444 -6.238422632313249\n",
            "<function error at 0x7f0b7320fe50>\n",
            "-3.3642190241598104 -6.245890412129695\n",
            "<function error at 0x7f0b7320fe50>\n",
            "-3.367841247818057 -6.252611414317632\n",
            "<function error at 0x7f0b7320fe50>\n",
            "-3.371101249291271 -6.2586603166258\n",
            "<function error at 0x7f0b7320fe50>\n",
            "-3.374035250791436 -6.2641043290299505\n",
            "<function error at 0x7f0b7320fe50>\n",
            "-3.376675852310185 -6.269003940509849\n",
            "<function error at 0x7f0b7320fe50>\n",
            "-3.37905239384071 -6.273413591148639\n",
            "<function error at 0x7f0b7320fe50>\n",
            "-3.3811912813775 -6.277382277022304\n",
            "<function error at 0x7f0b7320fe50>\n",
            "-3.3831162803161234 -6.280954094600224\n",
            "<function error at 0x7f0b7320fe50>\n",
            "-3.38484877951305 -6.284168730705694\n",
            "<function error at 0x7f0b7320fe50>\n",
            "-3.386408028939496 -6.287061903480424\n",
            "<function error at 0x7f0b7320fe50>\n",
            "-3.3878113535699 -6.289665759252593\n",
            "<function error at 0x7f0b7320fe50>\n",
            "-3.389074345881556 -6.292009229718124\n",
            "<function error at 0x7f0b7320fe50>\n",
            "-3.3902110391042894 -6.294118353403839\n",
            "<function error at 0x7f0b7320fe50>\n",
            "-3.391234063145173 -6.296016564984307\n",
            "<function error at 0x7f0b7320fe50>\n",
            "-3.392154784920773 -6.297724955667018\n",
            "<function error at 0x7f0b7320fe50>\n",
            "-3.392983434656177 -6.299262507539046\n",
            "<function error at 0x7f0b7320fe50>\n",
            "-3.39372921955412 -6.3006463044790495\n",
            "<function error at 0x7f0b7320fe50>\n",
            "-3.394400426097203 -6.301891721978083\n",
            "<function error at 0x7f0b7320fe50>\n",
            "-3.3950045121198875 -6.3030125979783245\n",
            "<function error at 0x7f0b7320fe50>\n",
            "-3.3955481896733 -6.304021386627939\n",
            "<function error at 0x7f0b7320fe50>\n",
            "-3.3960374996035494 -6.304929296660455\n",
            "<function error at 0x7f0b7320fe50>\n",
            "-3.3964778786722203 -6.30574641593621\n",
            "<function error at 0x7f0b7320fe50>\n",
            "-3.396874219964815 -6.306481823529651\n",
            "<function error at 0x7f0b7320fe50>\n",
            "-3.3972309272583545 -6.30714369060791\n",
            "<function error at 0x7f0b7320fe50>\n",
            "-3.397551963952218 -6.307739371221518\n",
            "<function error at 0x7f0b7320fe50>\n",
            "-3.3978408971059015 -6.308275484016056\n",
            "<function error at 0x7f0b7320fe50>\n",
            "-3.398100937073 -6.308757985772636\n",
            "<function error at 0x7f0b7320fe50>\n",
            "-3.3983349731717922 -6.309192237594344\n",
            "<function error at 0x7f0b7320fe50>\n",
            "-3.3985456057887684 -6.309583064474026\n",
            "<function error at 0x7f0b7320fe50>\n",
            "-3.398735175271804 -6.309934808905313\n",
            "<function error at 0x7f0b7320fe50>\n",
            "-3.398905787934018 -6.310251379132528\n",
            "<function error at 0x7f0b7320fe50>\n",
            "-3.3990593394572466 -6.310536292575617\n",
            "<function error at 0x7f0b7320fe50>\n",
            "-3.399197535955166 -6.3107927149125755\n",
            "<function error at 0x7f0b7320fe50>\n",
            "-3.3993219129301084 -6.311023495253644\n",
            "<function error at 0x7f0b7320fe50>\n",
            "-3.3994338523341923 -6.311231197798075\n",
            "<function error at 0x7f0b7320fe50>\n",
            "-3.3995345979243425 -6.311418130325231\n",
            "<function error at 0x7f0b7320fe50>\n",
            "-3.399625269081808 -6.311586369836569\n",
            "<function error at 0x7f0b7320fe50>\n",
            "-3.3997068732497264 -6.311737785633425\n",
            "<function error at 0x7f0b7320fe50>\n",
            "-3.3997803171269365 -6.311874060087029\n",
            "<function error at 0x7f0b7320fe50>\n",
            "-3.399846416742404 -6.3119967073315095\n",
            "<function error at 0x7f0b7320fe50>\n",
            "-3.399905906522208 -6.3121070900876015\n",
            "<function error at 0x7f0b7320fe50>\n",
            "-3.39995944744983 -6.312206434803984\n",
            "<function error at 0x7f0b7320fe50>\n",
            "-3.400007634410412 -6.312295845284484\n",
            "<function error at 0x7f0b7320fe50>\n",
            "-3.4000510028005895 -6.312376314952561\n",
            "<function error at 0x7f0b7320fe50>\n",
            "-3.40009003447734 -6.312448737889342\n",
            "<function error at 0x7f0b7320fe50>\n",
            "-3.4001251631119516 -6.312513918767852\n",
            "<function error at 0x7f0b7320fe50>\n",
            "-3.4001567790085874 -6.312572581793824\n",
            "<function error at 0x7f0b7320fe50>\n",
            "-3.400185233441 -6.312625378752427\n",
            "<function error at 0x7f0b7320fe50>\n",
            "-3.4002108425555715 -6.312672896250323\n",
            "<function error at 0x7f0b7320fe50>\n",
            "-3.4002338908840493 -6.312715662233513\n",
            "<function error at 0x7f0b7320fe50>\n",
            "-3.40025463450501 -6.312754151853407\n",
            "<function error at 0x7f0b7320fe50>\n",
            "-3.400273303889176 -6.312788792746279\n",
            "<function error at 0x7f0b7320fe50>\n",
            "-3.4002901064602 -6.31281996978478\n",
            "<function error at 0x7f0b7320fe50>\n",
            "-3.400305228899372 -6.312848029354304\n",
            "<function error at 0x7f0b7320fe50>\n",
            "-3.400318839219856 -6.312873283201707\n",
            "<function error at 0x7f0b7320fe50>\n"
          ]
        }
      ]
    }
  ]
}